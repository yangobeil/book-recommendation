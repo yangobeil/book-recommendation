{
 "cells": [
  {
   "cell_type": "markdown",
   "metadata": {},
   "source": [
    "# Scrape leslibraires.ca for book data"
   ]
  },
  {
   "cell_type": "code",
   "execution_count": 2,
   "metadata": {},
   "outputs": [],
   "source": [
    "from bs4 import BeautifulSoup\n",
    "import requests"
   ]
  },
  {
   "cell_type": "code",
   "execution_count": 3,
   "metadata": {},
   "outputs": [],
   "source": [
    "# function to extract data from a book's page on the website\n",
    "def get_book_info(url):\n",
    "    page = requests.get(url)\n",
    "    soup = BeautifulSoup(page.content, 'html.parser')\n",
    "    data = {'title': soup.find('h1', {'class': 'book-title'}).text,\n",
    "            'author': soup.find('a', {'class': 'book-meta-author-name'}).text.replace('\\n', ''),\n",
    "            'ISBN':  soup.find('div', {'id': 'sel-buy-box'}).find('span', {'class': 'buy-box--isbn'}).text[6:],\n",
    "            'summary': soup.find('div', {'class': 'book-summary'}).text.replace('\\n', ''),\n",
    "            'image': soup.find('img', {'class': 'book-image'})['src']}\n",
    "    return data"
   ]
  },
  {
   "cell_type": "code",
   "execution_count": null,
   "metadata": {},
   "outputs": [],
   "source": [
    "# get data about most popular books on the website\n",
    "full_data = []\n",
    "for page in range(1000):\n",
    "    print(page)\n",
    "    page = requests.get('https://www.leslibraires.ca/categorie/litterature-LIT/?tri=plus-populaires&ic=25&p={}'.format(page))\n",
    "    soup = BeautifulSoup(page.content, 'html.parser')\n",
    "    for book in soup.find_all('a', {'class': 'book-title'}):\n",
    "        base_url = 'https://www.leslibraires.ca'\n",
    "        url = base_url + book['href']\n",
    "        try:\n",
    "            full_data.append(get_book_info(url))\n",
    "        except Exception as e:\n",
    "            print(e)"
   ]
  },
  {
   "cell_type": "code",
   "execution_count": 10,
   "metadata": {},
   "outputs": [
    {
     "data": {
      "text/plain": [
       "16523"
      ]
     },
     "execution_count": 10,
     "metadata": {},
     "output_type": "execute_result"
    }
   ],
   "source": [
    "len(full_data)"
   ]
  },
  {
   "cell_type": "code",
   "execution_count": 21,
   "metadata": {},
   "outputs": [
    {
     "data": {
      "text/plain": [
       "{'title': 'Kukum',\n",
       " 'author': 'Michel Jean',\n",
       " 'ISBN': '9782764813447',\n",
       " 'summary': \"Ce roman retrace le parcours d'Almanda Siméon, une orpheline qui va partager sa vie avec les Innus de Pekuakami. Amoureuse d'un jeune Innu, elle réussira à se faire accepter. Elle apprendra l'existence nomade et la langue, et brisera les barrières imposées aux femmes autochtones. Almanda et sa famille seront confrontées à la perte de leurs terres et subiront l'enfermement des réserves et la violence des pensionnats. Racontée sur un ton intimiste, l'histoire de cette femme, qui se déroule sur un siècle, exprime l'attachement aux valeurs ancestrales des Innus et au besoin de liberté qu'éprouvent les peuples nomades, encore aujourd'hui.\",\n",
       " 'image': '//images.leslibraires.ca/books/9782764813447/front/9782764813447_medium.jpg',\n",
       " 'vector': <tf.Tensor: shape=(512,), dtype=float32, numpy=\n",
       " array([ 5.36120348e-02,  2.49565076e-02, -3.81482043e-03, -1.70904794e-03,\n",
       "        -5.69874309e-02,  3.88389714e-02,  6.88745901e-02, -8.37944523e-02,\n",
       "         6.06930479e-02, -7.13104457e-02,  2.22239085e-02,  7.75973052e-02,\n",
       "         4.01027082e-03,  3.36098261e-02, -6.55667111e-02, -1.43760126e-02,\n",
       "         1.29564945e-02, -7.41006434e-02,  2.85184733e-03,  1.19114211e-02,\n",
       "         9.46724787e-03,  3.18052247e-03,  5.53789660e-02, -5.51529136e-03,\n",
       "        -6.91769123e-02,  1.80658009e-02,  2.29599532e-02, -6.60298951e-03,\n",
       "        -2.59107677e-03, -5.04942760e-02, -6.76408559e-02,  4.38660523e-03,\n",
       "         3.41206193e-02, -3.00116800e-02, -9.78999399e-03, -3.05660497e-02,\n",
       "         3.97094944e-03,  1.50975250e-02,  3.70915830e-02, -3.61753069e-02,\n",
       "        -3.69880423e-02, -2.92862356e-02, -3.57737653e-02,  4.90803756e-02,\n",
       "        -6.96799979e-02,  7.89653584e-02,  5.36322184e-02, -2.15223972e-02,\n",
       "        -3.16982903e-02, -9.12558194e-03,  3.69329713e-02, -8.91209755e-04,\n",
       "         1.77191256e-03,  6.54659197e-02,  2.20205709e-02, -8.28743502e-02,\n",
       "         5.41894585e-02,  3.36431712e-02,  2.16813516e-02,  1.24453139e-02,\n",
       "        -3.27783599e-02,  4.23939079e-02,  1.27224736e-02, -7.33134225e-02,\n",
       "         1.45218931e-02,  1.32422801e-02, -1.58459879e-02,  4.02912386e-02,\n",
       "         5.93505166e-02,  4.93522771e-02, -7.38535300e-02,  6.35324344e-02,\n",
       "        -2.66802553e-02, -8.97908881e-02,  2.01330297e-02,  1.24686472e-02,\n",
       "        -1.10120699e-03, -5.21289045e-03,  3.44515145e-02, -8.89942348e-02,\n",
       "        -8.98885429e-02, -6.17713518e-02, -6.30971491e-02,  4.02957350e-02,\n",
       "         7.45831430e-02, -7.18766600e-02, -3.46345369e-05,  2.80580670e-03,\n",
       "         2.57377531e-02,  4.89471070e-02, -1.91062596e-02,  2.80651022e-02,\n",
       "        -3.74706574e-02,  2.57713459e-02,  4.46860753e-02, -5.44714704e-02,\n",
       "         8.93548355e-02,  1.69453193e-02,  2.97759008e-03,  2.67880354e-02,\n",
       "         4.87571247e-02,  4.91086803e-02, -1.33285103e-02,  3.23661827e-02,\n",
       "         6.87119961e-02, -1.48390634e-02, -1.26723871e-02,  2.84526944e-02,\n",
       "        -3.64767201e-02,  7.63865840e-03,  3.89343663e-03, -2.93296087e-03,\n",
       "         2.41102092e-02,  5.19837029e-02, -1.09934416e-02,  1.31033007e-02,\n",
       "         2.66392566e-02, -3.80542241e-02, -7.96010271e-02, -1.08416071e-02,\n",
       "        -1.63196195e-02,  1.52144134e-02,  2.08196603e-02,  2.76200683e-03,\n",
       "        -9.43117309e-03,  5.75948618e-02, -3.52161122e-04, -7.30499476e-02,\n",
       "         7.75205810e-03, -1.43674249e-02, -2.70944741e-03, -5.92879280e-02,\n",
       "         2.77608410e-02, -4.45539504e-02,  3.38116400e-02,  8.23708773e-02,\n",
       "        -1.33223683e-02, -6.39772799e-04,  2.85660587e-02,  2.09546350e-02,\n",
       "         6.88762739e-02, -8.47916119e-03, -6.22527786e-02,  2.98827477e-02,\n",
       "         5.20434268e-02,  9.09390301e-03,  5.05866222e-02, -6.06142208e-02,\n",
       "         6.90915529e-03, -8.61518309e-02, -4.52255044e-04, -2.29828078e-02,\n",
       "         5.78025095e-02,  3.71021107e-02, -5.94759472e-02,  4.63652462e-02,\n",
       "        -4.16342802e-02,  3.00732478e-02,  3.68803367e-03,  1.16152465e-02,\n",
       "         4.80312333e-02, -5.82556473e-03,  6.35673031e-02,  1.18057961e-02,\n",
       "         3.63829173e-02, -1.25946077e-02,  1.09497765e-02,  3.89507823e-02,\n",
       "         6.30837008e-02, -3.36933285e-02, -6.95806602e-03,  3.12529616e-02,\n",
       "        -8.20391774e-02,  3.95340733e-02,  6.95871888e-03, -3.69184539e-02,\n",
       "        -4.19212244e-02,  2.60774177e-02,  5.20537831e-02, -3.60613093e-02,\n",
       "        -8.33194926e-02,  1.59084070e-02,  1.89173929e-02,  5.35749607e-02,\n",
       "        -2.54255887e-02, -7.85985067e-02,  5.33357747e-02,  7.25861192e-02,\n",
       "        -4.23000604e-02, -2.61206683e-02,  4.72862981e-02, -3.52067538e-02,\n",
       "         6.20366968e-02, -1.35606211e-02, -8.19634199e-02, -5.27033769e-02,\n",
       "        -5.03396206e-02,  6.70479164e-02, -1.50117138e-02,  7.29525741e-03,\n",
       "        -6.96799159e-02, -3.97538878e-02, -1.35799805e-02,  4.81885150e-02,\n",
       "         1.94625575e-02, -5.56334257e-02, -3.18119824e-02, -3.45287435e-02,\n",
       "        -2.49314792e-02, -3.02948579e-02, -4.18175869e-02, -7.49820024e-02,\n",
       "         7.47784823e-02,  8.88080243e-03, -9.00028273e-02, -2.86389701e-02,\n",
       "        -2.99347173e-02, -7.46440887e-02, -6.60129860e-02,  1.24336034e-02,\n",
       "         5.03285341e-02, -2.78815720e-02, -3.84910293e-02, -2.40181554e-02,\n",
       "         4.83543053e-03, -6.21027127e-02, -3.62955108e-02,  7.82489427e-04,\n",
       "        -3.73524167e-02, -1.13966865e-02, -2.40132045e-02, -5.09196222e-02,\n",
       "        -7.13550076e-02,  5.59169054e-02, -5.44202561e-03,  5.49541228e-03,\n",
       "         3.45959142e-02,  6.67981245e-03,  7.09575564e-02, -5.16619124e-02,\n",
       "        -9.99462511e-03,  1.16389813e-02,  4.10160683e-02, -5.63550144e-02,\n",
       "         1.15859713e-02,  5.60444817e-02,  1.39546907e-02, -3.97148430e-02,\n",
       "         6.57548830e-02,  3.01597044e-02,  7.24865273e-02,  3.75029109e-02,\n",
       "        -3.44125852e-02,  6.71910867e-02,  9.58327297e-03,  5.96635118e-02,\n",
       "        -4.44634855e-02, -4.80960533e-02,  3.70916985e-02,  3.35058980e-02,\n",
       "        -2.58807372e-02,  4.37075384e-02, -4.26984578e-02,  5.22458786e-03,\n",
       "         4.15130984e-03, -2.73025651e-02, -4.15167622e-02, -9.91884805e-03,\n",
       "        -2.13873778e-02, -5.48301898e-02, -3.31666805e-02, -2.48815343e-02,\n",
       "        -1.11911166e-02, -5.04984073e-02,  4.34260257e-02, -6.69044955e-03,\n",
       "         4.57078144e-02, -5.64693399e-02,  4.19071652e-02,  4.89551062e-03,\n",
       "        -5.41296825e-02, -3.21421362e-02, -2.09138263e-02, -7.17605352e-02,\n",
       "         3.44456472e-02,  6.81142807e-02, -2.87408922e-02,  6.91257268e-02,\n",
       "         4.33438271e-02,  3.52678180e-05, -4.03075330e-02,  5.30233309e-02,\n",
       "        -6.14522062e-02, -6.05006441e-02,  7.96932504e-02,  7.81270936e-02,\n",
       "        -3.35040726e-02, -6.29510405e-03,  7.23135797e-03,  8.25411752e-02,\n",
       "        -1.48922568e-02, -2.39860429e-03,  3.49849686e-02, -3.92737165e-02,\n",
       "        -6.69730678e-02, -7.71111026e-02, -2.64297146e-02,  3.26044708e-02,\n",
       "         2.11396199e-02, -3.42074968e-02,  6.58892393e-02, -1.38175627e-02,\n",
       "        -1.22438290e-03,  2.71422863e-02, -6.29885308e-03, -1.03461714e-02,\n",
       "         2.33342163e-02, -2.90270541e-02,  4.94413823e-02, -4.10411768e-02,\n",
       "         1.41831292e-02, -6.32638261e-02,  2.91412622e-02,  5.95707260e-02,\n",
       "        -8.86563957e-02,  5.21791279e-02, -1.66856516e-02, -2.32164655e-02,\n",
       "         8.32660794e-02, -4.24260087e-03,  5.93461134e-02,  8.17362294e-02,\n",
       "        -7.01006725e-02, -8.97949338e-02,  4.88588475e-02, -7.94923455e-02,\n",
       "        -3.96778993e-02, -4.40412201e-02, -1.93996131e-02,  7.16862176e-03,\n",
       "        -3.64327501e-03,  4.65368927e-02, -3.97608653e-02,  5.86397387e-02,\n",
       "         2.89769284e-02, -2.97264452e-03,  7.59116486e-02, -3.37603651e-02,\n",
       "        -4.49281894e-02, -6.68512732e-02,  2.86976667e-03, -7.10015967e-02,\n",
       "         1.45134572e-02, -5.17912246e-02,  1.80858932e-02,  1.30793704e-02,\n",
       "        -3.32742818e-02, -1.49226291e-02, -1.53632984e-02,  1.86261185e-03,\n",
       "        -1.19928122e-02, -2.87340605e-03,  6.03880957e-02,  5.51086515e-02,\n",
       "        -2.74478309e-02,  6.95419312e-02, -3.97397913e-02,  4.27856520e-02,\n",
       "        -6.87039495e-02,  5.72825335e-02, -5.42019680e-02,  4.58745137e-02,\n",
       "        -6.96658995e-03, -4.88812849e-02,  3.32009643e-02,  3.84887680e-02,\n",
       "        -1.71276424e-02,  7.00996316e-04,  5.39117530e-02, -7.83341303e-02,\n",
       "         3.57996579e-03, -8.30808356e-02, -1.81981381e-02, -2.70856582e-02,\n",
       "         5.40152937e-02,  5.29512316e-02, -6.08547367e-02, -7.84211829e-02,\n",
       "         7.04327226e-02,  2.14642752e-02, -2.56027170e-02, -8.19109082e-02,\n",
       "        -3.90673168e-02,  1.99129600e-02, -1.75764803e-02,  2.66119745e-03,\n",
       "        -7.79693052e-02,  3.70271388e-03,  3.20006013e-02, -4.03736345e-02,\n",
       "         1.04499133e-02,  7.31311813e-02, -1.35034118e-02, -6.70142658e-03,\n",
       "        -3.13675106e-02,  3.33306044e-02, -2.00514644e-02, -7.64661878e-02,\n",
       "         5.48775680e-02, -1.27485087e-02,  4.99178581e-02, -6.17350154e-02,\n",
       "         8.14699829e-02, -2.02367455e-02,  9.00898501e-03,  2.23220550e-02,\n",
       "         5.36678061e-02, -7.24487826e-02, -4.06002961e-02, -6.08449541e-02,\n",
       "         1.68276206e-02,  2.02129930e-02, -1.84124671e-02, -2.12653484e-02,\n",
       "         6.67267963e-02, -2.94402614e-02,  2.68657226e-02, -1.93063542e-02,\n",
       "        -7.61245787e-02, -5.07368054e-03,  8.82408768e-02, -5.61072715e-02,\n",
       "         2.67338231e-02,  1.20828683e-02, -4.32522967e-02, -6.71235025e-02,\n",
       "        -3.56064998e-02,  1.18193831e-02,  2.27352865e-02,  3.48756984e-02,\n",
       "        -2.84375623e-02,  2.34224834e-02,  2.71114428e-03,  1.50464987e-02,\n",
       "        -3.99261266e-02,  7.44108856e-02,  8.59018937e-02,  6.54290542e-02,\n",
       "         4.73039448e-02, -2.47269068e-02,  2.33498123e-02,  2.95333061e-02,\n",
       "         5.06397262e-02, -5.76004460e-02, -7.88101703e-02, -1.91452298e-02,\n",
       "         3.44152525e-02, -2.59418297e-03,  6.57777041e-02,  2.16192361e-02,\n",
       "        -3.42528783e-02, -2.94756461e-02, -3.48739070e-03,  1.28997425e-02,\n",
       "        -6.63731201e-03, -6.93361312e-02, -1.88682698e-05,  6.81529343e-02,\n",
       "        -8.54007006e-02,  1.15366429e-02,  6.24290742e-02, -1.20122833e-02,\n",
       "        -1.55159561e-02, -3.16574723e-02, -3.79445590e-02,  8.36648643e-02,\n",
       "         5.60373813e-02, -1.92862190e-02,  5.15887626e-02,  2.17984132e-02,\n",
       "         6.67580292e-02,  6.99138865e-02,  1.39025571e-02, -2.71507688e-02,\n",
       "        -3.23013254e-02, -5.42989708e-02,  2.22259331e-02, -3.63331474e-02,\n",
       "         2.44171359e-02,  8.51175934e-03,  1.68869961e-02, -4.08862121e-02,\n",
       "         1.10202050e-03, -6.62960634e-02,  4.61211391e-02, -2.40346156e-02,\n",
       "        -1.50944926e-02,  5.17757833e-02, -3.89575660e-02, -4.33533229e-02,\n",
       "         5.27356714e-02, -7.53242103e-03,  3.37546282e-02, -8.67386609e-02,\n",
       "         2.34114863e-02,  5.30742481e-03, -2.51550581e-02,  2.00647116e-02,\n",
       "         6.13832055e-03, -7.01133981e-02,  1.34566277e-02,  3.43354390e-04],\n",
       "       dtype=float32)>}"
      ]
     },
     "execution_count": 21,
     "metadata": {},
     "output_type": "execute_result"
    }
   ],
   "source": [
    "full_data[0]"
   ]
  },
  {
   "cell_type": "code",
   "execution_count": null,
   "metadata": {},
   "outputs": [],
   "source": [
    "# remove books appearing more than once\n",
    "book_data_no_duplicates = []\n",
    "titles = []\n",
    "for book in full_data:\n",
    "    if book['title'] not in titles:\n",
    "        titles.append(book['title'])\n",
    "        book_data_no_duplicates.append(book)\n",
    "        \n",
    "full_date = book_date_no_duplicates"
   ]
  },
  {
   "cell_type": "markdown",
   "metadata": {},
   "source": [
    "# Encode description of books using tensorflow"
   ]
  },
  {
   "cell_type": "code",
   "execution_count": null,
   "metadata": {},
   "outputs": [],
   "source": [
    "import tensorflow_hub as hub\n",
    "import tensorflow_text"
   ]
  },
  {
   "cell_type": "code",
   "execution_count": null,
   "metadata": {},
   "outputs": [],
   "source": [
    "embed = hub.load(\"https://tfhub.dev/google/universal-sentence-encoder-multilingual/3\")"
   ]
  },
  {
   "cell_type": "code",
   "execution_count": null,
   "metadata": {},
   "outputs": [],
   "source": [
    "# add vectors to the data\n",
    "for element in full_data:\n",
    "    element['vector'] = embed(element['summary'])[0]"
   ]
  },
  {
   "cell_type": "markdown",
   "metadata": {},
   "source": [
    "# Make nearest neighbor models"
   ]
  },
  {
   "cell_type": "code",
   "execution_count": 7,
   "metadata": {},
   "outputs": [],
   "source": [
    "import numpy as np\n",
    "from sklearn.metrics.pairwise import cosine_similarity, euclidean_distances"
   ]
  },
  {
   "cell_type": "code",
   "execution_count": 8,
   "metadata": {},
   "outputs": [],
   "source": [
    "vectors = [item['vector'] for item in full_data]\n",
    "X = np.array(vectors)"
   ]
  },
  {
   "cell_type": "code",
   "execution_count": 9,
   "metadata": {},
   "outputs": [],
   "source": [
    "# calculate similarity based on Euclidean distance\n",
    "sim = euclidean_distances(X)\n",
    "indices = np.vstack([np.argsort(-arr) for arr in sim])"
   ]
  },
  {
   "cell_type": "code",
   "execution_count": 10,
   "metadata": {},
   "outputs": [],
   "source": [
    "# calculate similarity based on cosine distance\n",
    "cos_sim = cosine_similarity(X)\n",
    "cos_indices = np.vstack([np.argsort(-arr) for arr in cos_sim])"
   ]
  },
  {
   "cell_type": "code",
   "execution_count": 11,
   "metadata": {},
   "outputs": [],
   "source": [
    "# find most similar books for each case\n",
    "for i, book in enumerate(full_data):\n",
    "    book['euclidean'] = indices[i][1:21]\n",
    "    book['cosine'] = cos_indices[i][1:21]"
   ]
  },
  {
   "cell_type": "code",
   "execution_count": 14,
   "metadata": {},
   "outputs": [],
   "source": [
    "# remove vectors from dict\n",
    "for book in full_data:\n",
    "    book.pop('vector')"
   ]
  },
  {
   "cell_type": "code",
   "execution_count": 18,
   "metadata": {},
   "outputs": [
    {
     "data": {
      "text/plain": [
       "{'title': 'Kukum',\n",
       " 'author': 'Michel Jean',\n",
       " 'ISBN': '9782764813447',\n",
       " 'summary': \"Ce roman retrace le parcours d'Almanda Siméon, une orpheline qui va partager sa vie avec les Innus de Pekuakami. Amoureuse d'un jeune Innu, elle réussira à se faire accepter. Elle apprendra l'existence nomade et la langue, et brisera les barrières imposées aux femmes autochtones. Almanda et sa famille seront confrontées à la perte de leurs terres et subiront l'enfermement des réserves et la violence des pensionnats. Racontée sur un ton intimiste, l'histoire de cette femme, qui se déroule sur un siècle, exprime l'attachement aux valeurs ancestrales des Innus et au besoin de liberté qu'éprouvent les peuples nomades, encore aujourd'hui.\",\n",
       " 'image': '//images.leslibraires.ca/books/9782764813447/front/9782764813447_medium.jpg',\n",
       " 'euclidean': array([ 5317, 13539,  8225, 10370,  5505,  6833,  4744, 12761,  7117,\n",
       "         3384,  1248, 10475,  8596,  2786, 13926, 12419,  3677, 10752,\n",
       "         7145, 10306], dtype=int64),\n",
       " 'cosine': array([ 8140, 11739,  6079,  1181, 13761, 11294, 13874, 14071,   703,\n",
       "         3347,  6926,  7051,  9468,  4607,  8848,  1369,  1769,  7788,\n",
       "        11604, 13518], dtype=int64)}"
      ]
     },
     "execution_count": 18,
     "metadata": {},
     "output_type": "execute_result"
    }
   ],
   "source": [
    "full_data[0]"
   ]
  },
  {
   "cell_type": "code",
   "execution_count": 16,
   "metadata": {},
   "outputs": [],
   "source": [
    "# save the data\n",
    "import pickle\n",
    "\n",
    "with open('books.pkl', 'wb') as f:\n",
    "    pickle.dump(full_data, f)"
   ]
  },
  {
   "cell_type": "code",
   "execution_count": null,
   "metadata": {},
   "outputs": [],
   "source": []
  }
 ],
 "metadata": {
  "kernelspec": {
   "display_name": "Python 3",
   "language": "python",
   "name": "python3"
  },
  "language_info": {
   "codemirror_mode": {
    "name": "ipython",
    "version": 3
   },
   "file_extension": ".py",
   "mimetype": "text/x-python",
   "name": "python",
   "nbconvert_exporter": "python",
   "pygments_lexer": "ipython3",
   "version": "3.7.0"
  }
 },
 "nbformat": 4,
 "nbformat_minor": 2
}
